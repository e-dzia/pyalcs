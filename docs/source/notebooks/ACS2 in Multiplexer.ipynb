{
 "cells": [
  {
   "cell_type": "markdown",
   "metadata": {},
   "source": [
    "# ACS2 in Multiplexer"
   ]
  },
  {
   "cell_type": "code",
   "execution_count": 1,
   "metadata": {},
   "outputs": [],
   "source": [
    "%matplotlib inline\n",
    "\n",
    "# General\n",
    "from __future__ import unicode_literals\n",
    "\n",
    "import matplotlib\n",
    "import matplotlib.pyplot as plt\n",
    "import matplotlib.ticker as tkr\n",
    "\n",
    "import numpy as np\n",
    "import pandas as pd\n",
    "\n",
    "# Logger\n",
    "import logging\n",
    "logging.basicConfig(level=logging.WARN)\n",
    "\n",
    "# ALCS + custom environments\n",
    "import sys, os\n",
    "sys.path.append(os.path.abspath('../../..'))\n",
    "\n",
    "# Enable automatic module reload\n",
    "%load_ext autoreload\n",
    "%autoreload 2\n",
    "\n",
    "# Load PyALCS module\n",
    "from lcs.agents import EnvironmentAdapter\n",
    "from lcs.agents.acs2 import ACS2, Configuration, ClassifiersList\n",
    "from lcs.metrics import population_metrics\n",
    "\n",
    "# Load environments\n",
    "import gym\n",
    "import gym_multiplexer"
   ]
  },
  {
   "cell_type": "markdown",
   "metadata": {},
   "source": [
    "## Multiplexer"
   ]
  },
  {
   "cell_type": "code",
   "execution_count": 2,
   "metadata": {},
   "outputs": [
    {
     "name": "stdout",
     "output_type": "stream",
     "text": [
      "[0, 1, 0, 1, 0, 0, 1, 0, 1, 1, 0, 1, 1, 0, 1, 0, 0, 1, 1, 1, 0]\n"
     ]
    }
   ],
   "source": [
    "mp = gym.make('boolean-multiplexer-20bit-v0')\n",
    "situation = mp.reset()\n",
    "\n",
    "# render phenotype\n",
    "mp.render()"
   ]
  },
  {
   "cell_type": "code",
   "execution_count": 3,
   "metadata": {},
   "outputs": [
    {
     "name": "stdout",
     "output_type": "stream",
     "text": [
      "New state: [0, 1, 0, 1, 0, 0, 1, 0, 1, 1, 0, 1, 1, 0, 1, 0, 0, 1, 1, 1, 0], reward: 0, is done: True\n"
     ]
    }
   ],
   "source": [
    "# perform random action\n",
    "state, reward, done, _ = mp.step(mp.action_space.sample())\n",
    "print(f\"New state: {state}, reward: {reward}, is done: {done}\")"
   ]
  },
  {
   "cell_type": "markdown",
   "metadata": {},
   "source": [
    "## Environment adapter"
   ]
  },
  {
   "cell_type": "code",
   "execution_count": 4,
   "metadata": {},
   "outputs": [],
   "source": [
    "class MultiplexerAdapter(EnvironmentAdapter):\n",
    "    @staticmethod\n",
    "    def to_genotype(phenotype):\n",
    "        return [str(x) for x in phenotype]"
   ]
  },
  {
   "cell_type": "code",
   "execution_count": 5,
   "metadata": {},
   "outputs": [
    {
     "data": {
      "text/plain": [
       "'010100101101101001110'"
      ]
     },
     "execution_count": 5,
     "metadata": {},
     "output_type": "execute_result"
    }
   ],
   "source": [
    "genotype = MultiplexerAdapter().to_genotype(state)\n",
    "''.join(genotype)"
   ]
  },
  {
   "cell_type": "markdown",
   "metadata": {},
   "source": [
    "## Go agent, go...\n",
    "Perform experiment for a couple of explore/exploit trials."
   ]
  },
  {
   "cell_type": "code",
   "execution_count": 6,
   "metadata": {},
   "outputs": [],
   "source": [
    "def get_6bit_mp_actors():        \n",
    "    mp = gym.make('boolean-multiplexer-6bit-v0')\n",
    "    cfg = Configuration(\n",
    "        mp.env.observation_space.n, 2,\n",
    "        environment_adapter=MultiplexerAdapter(),\n",
    "        user_metrics_collector_fcn=population_metrics,\n",
    "        do_ga=True)\n",
    "\n",
    "    return ACS2(cfg), mp\n",
    "\n",
    "def get_11bit_mp_actors():\n",
    "    mp = gym.make('boolean-multiplexer-11bit-v0')    \n",
    "    cfg = Configuration(\n",
    "        mp.env.observation_space.n, 2,\n",
    "        environment_adapter=MultiplexerAdapter(),\n",
    "        user_metrics_collector_fcn=population_metrics,\n",
    "        do_ga=True)\n",
    "\n",
    "    return ACS2(cfg), mp\n",
    "\n",
    "def get_20bit_mp_actors():\n",
    "    mp = gym.make('boolean-multiplexer-20bit-v0')\n",
    "    cfg = Configuration(\n",
    "        mp.env.observation_space.n, 2,\n",
    "        environment_adapter=MultiplexerAdapter(),\n",
    "        user_metrics_collector_fcn=population_metrics,\n",
    "        do_ga=True)\n",
    "\n",
    "    return ACS2(cfg), mp"
   ]
  },
  {
   "cell_type": "code",
   "execution_count": 7,
   "metadata": {},
   "outputs": [],
   "source": [
    "def perform_experiment(agent, env, trials=250_000):\n",
    "    population, metrics = agent.explore_exploit(env, trials)\n",
    "    \n",
    "    print(\"Population size: {}\".format(metrics[-1]['population']))\n",
    "    print(\"Reliable size: {}\".format(metrics[-1]['reliable']))\n",
    "    print(metrics[-1])\n",
    "    \n",
    "    reliable_classifiers = [c for c in population if c.is_reliable()]\n",
    "    reliable_classifiers = sorted(reliable_classifiers, key=lambda cl: -cl.fitness)\n",
    "\n",
    "    # Print top 10 reliable classifiers\n",
    "    for cl in reliable_classifiers[:10]:\n",
    "        print(f\"{cl}, q: {cl.q:.2f}, fit: {cl.fitness:.2f}, exp: {cl.exp:.2f}\")\n",
    "    \n",
    "    return population, metrics"
   ]
  },
  {
   "cell_type": "markdown",
   "metadata": {},
   "source": [
    "Here you will probably want to run these experiments for about 250k trials."
   ]
  },
  {
   "cell_type": "code",
   "execution_count": 8,
   "metadata": {},
   "outputs": [],
   "source": [
    "TRIALS = 5_000"
   ]
  },
  {
   "cell_type": "markdown",
   "metadata": {},
   "source": [
    "### 6-bit MPX"
   ]
  },
  {
   "cell_type": "code",
   "execution_count": 9,
   "metadata": {},
   "outputs": [
    {
     "name": "stdout",
     "output_type": "stream",
     "text": [
      "Population size: 125\n",
      "Reliable size: 39\n",
      "{'trial': 9995, 'steps_in_trial': 1, 'reward': 1000, 'population': 125, 'numerosity': 333, 'reliable': 39}\n",
      "10##1##-1-######1 @ 0x117477d68, q: 1.00, fit: 1000.00, exp: 418.00\n",
      "11###1#-1-######1 @ 0x117494f98, q: 1.00, fit: 1000.00, exp: 433.00\n",
      "001####-1-######1 @ 0x1174be588, q: 1.00, fit: 1000.00, exp: 418.00\n",
      "000####-0-######1 @ 0x1174be710, q: 1.00, fit: 1000.00, exp: 417.00\n",
      "0#11###-1-######1 @ 0x1174bea20, q: 1.00, fit: 1000.00, exp: 381.00\n",
      "11###0#-0-######1 @ 0x117468e10, q: 1.00, fit: 1000.00, exp: 396.00\n",
      "#00#0##-0-######1 @ 0x11742a400, q: 1.00, fit: 1000.00, exp: 397.00\n",
      "01#0###-0-######1 @ 0x117442710, q: 1.00, fit: 1000.00, exp: 398.00\n",
      "01#1###-1-######1 @ 0x117468ba8, q: 1.00, fit: 1000.00, exp: 354.00\n",
      "10##0##-0-######1 @ 0x1174e7b38, q: 1.00, fit: 1000.00, exp: 298.00\n",
      "CPU times: user 15.7 s, sys: 134 ms, total: 15.9 s\n",
      "Wall time: 16.5 s\n"
     ]
    }
   ],
   "source": [
    "%%time\n",
    "p6, m6 = perform_experiment(*get_6bit_mp_actors(), trials=TRIALS)"
   ]
  },
  {
   "cell_type": "markdown",
   "metadata": {},
   "source": [
    "### 11-bit MPX"
   ]
  },
  {
   "cell_type": "code",
   "execution_count": 10,
   "metadata": {
    "scrolled": false
   },
   "outputs": [
    {
     "name": "stdout",
     "output_type": "stream",
     "text": [
      "Population size: 1014\n",
      "Reliable size: 79\n",
      "{'trial': 9995, 'steps_in_trial': 1, 'reward': 1000, 'population': 1014, 'numerosity': 1264, 'reliable': 79}\n",
      "00#11######0-1-###########1 @ 0x11784b860, q: 1.00, fit: 1000.00, exp: 219.00\n",
      "#001###1###0-1-###########1 @ 0x117802a20, q: 1.00, fit: 1000.00, exp: 215.00\n",
      "101#####0###-0-###########1 @ 0x117783278, q: 1.00, fit: 1000.00, exp: 195.00\n",
      "#01#0###0###-0-###########1 @ 0x117a363c8, q: 1.00, fit: 1000.00, exp: 176.00\n",
      "#11###1###10-1-###########1 @ 0x117442b00, q: 1.00, fit: 1000.00, exp: 189.00\n",
      "1#0####1#1#0-1-###########1 @ 0x117afeba8, q: 1.00, fit: 1000.00, exp: 201.00\n",
      "#01#1###1##0-1-###########1 @ 0x1178bac50, q: 1.00, fit: 1000.00, exp: 204.00\n",
      "01###11####0-1-###########1 @ 0x117870630, q: 1.00, fit: 1000.00, exp: 188.00\n",
      "#10##0###0#0-0-###########1 @ 0x117bc3ba8, q: 1.00, fit: 1000.00, exp: 196.00\n",
      "011###1####0-1-###########1 @ 0x11761e860, q: 1.00, fit: 1000.00, exp: 192.00\n",
      "CPU times: user 1min 24s, sys: 848 ms, total: 1min 25s\n",
      "Wall time: 1min 29s\n"
     ]
    }
   ],
   "source": [
    "%%time\n",
    "p11, m11 = perform_experiment(*get_11bit_mp_actors(), trials=TRIALS)"
   ]
  },
  {
   "cell_type": "markdown",
   "metadata": {},
   "source": [
    "### 20-bit MPX"
   ]
  },
  {
   "cell_type": "code",
   "execution_count": 11,
   "metadata": {},
   "outputs": [
    {
     "name": "stdout",
     "output_type": "stream",
     "text": [
      "Population size: 4234\n",
      "Reliable size: 24\n",
      "{'trial': 9995, 'steps_in_trial': 1, 'reward': 0, 'population': 4234, 'numerosity': 4288, 'reliable': 24}\n",
      "#0000#######0#######0-0-####################1 @ 0x11843ce10, q: 1.00, fit: 1000.00, exp: 105.00\n",
      "#001#1#######1######0-1-####################1 @ 0x11889dcf8, q: 1.00, fit: 999.99, exp: 85.00\n",
      "1#11###########1###10-1-####################1 @ 0x118297f28, q: 1.00, fit: 999.77, exp: 59.00\n",
      "1101#######1#####0##0-0-####################1 @ 0x11807b630, q: 1.00, fit: 999.73, exp: 61.00\n",
      "1#11###########0##000-0-####################1 @ 0x1181fb9e8, q: 1.00, fit: 999.29, exp: 48.00\n",
      "111############0##000-0-####################1 @ 0x118002550, q: 1.00, fit: 997.76, exp: 42.00\n",
      "0001#1##############0-1-####################1 @ 0x1190cd400, q: 1.00, fit: 997.18, exp: 51.00\n",
      "010#####11#1########0-1-####################1 @ 0x118685ba8, q: 1.00, fit: 996.99, exp: 44.00\n",
      "11#1############11#10-1-####################1 @ 0x118927be0, q: 1.00, fit: 996.71, exp: 43.00\n",
      "0010#10#############0-0-####################1 @ 0x118710128, q: 1.00, fit: 996.25, exp: 47.00\n",
      "CPU times: user 4min 28s, sys: 2.43 s, total: 4min 31s\n",
      "Wall time: 4min 43s\n"
     ]
    }
   ],
   "source": [
    "%%time\n",
    "p20, m20 = perform_experiment(*get_20bit_mp_actors(), trials=TRIALS)"
   ]
  },
  {
   "cell_type": "code",
   "execution_count": 12,
   "metadata": {},
   "outputs": [],
   "source": [
    "def parse_metrics(metrics):\n",
    "    lst = [[\n",
    "        m['trial'],\n",
    "        m['numerosity'],\n",
    "        m['reliable'],\n",
    "        m['reward'],\n",
    "    ] for m in metrics]\n",
    "\n",
    "    df = pd.DataFrame(lst, columns=['trial', 'numerosity', 'reliable', 'reward'])\n",
    "    df = df.set_index('trial')\n",
    "\n",
    "    return df"
   ]
  },
  {
   "cell_type": "code",
   "execution_count": 13,
   "metadata": {},
   "outputs": [],
   "source": [
    "# parse metrics to df\n",
    "df6bit = parse_metrics(m6)\n",
    "df11bit = parse_metrics(m11)\n",
    "df20bit = parse_metrics(m20)"
   ]
  },
  {
   "cell_type": "markdown",
   "metadata": {},
   "source": [
    "## Number of reliable classifiers"
   ]
  },
  {
   "cell_type": "code",
   "execution_count": 14,
   "metadata": {},
   "outputs": [
    {
     "data": {
      "image/png": "[encoded data removed]",
      "text/plain": [
       "<Figure size 432x288 with 1 Axes>"
      ]
     },
     "metadata": {},
     "output_type": "display_data"
    }
   ],
   "source": [
    "window=50\n",
    "\n",
    "fig, ax = plt.subplots()\n",
    "\n",
    "df6bit['reliable'].rolling(window=window).mean().plot(label='6-bit', linewidth=1.0, ax=ax)\n",
    "df11bit['reliable'].rolling(window=window).mean().plot(label='11-bit', linewidth=1.0, ax=ax)\n",
    "df20bit['reliable'].rolling(window=window).mean().plot(label='20-bit', linewidth=1.0, ax=ax)\n",
    "\n",
    "ax.set_xlabel('Trial')\n",
    "ax.set_ylabel('Reliable classifiers')\n",
    "ax.set_title(f'Number of reliable classifiers for boolean MPX.\\nResults averaged over {window} trials')\n",
    "\n",
    "plt.legend()\n",
    "plt.show()"
   ]
  },
  {
   "cell_type": "markdown",
   "metadata": {},
   "source": [
    "## Average reward"
   ]
  },
  {
   "cell_type": "code",
   "execution_count": 15,
   "metadata": {},
   "outputs": [
    {
     "data": {
      "image/png": "[encoded data removed]",
      "text/plain": [
       "<Figure size 432x288 with 1 Axes>"
      ]
     },
     "metadata": {},
     "output_type": "display_data"
    }
   ],
   "source": [
    "window=250\n",
    "\n",
    "fig, ax = plt.subplots()\n",
    "\n",
    "df6bit['reward'].rolling(window=window).mean().plot(label='6-bit', linewidth=1.0, ax=ax)\n",
    "df11bit['reward'].rolling(window=window).mean().plot(label='11-bit', linewidth=1.0, ax=ax)\n",
    "df20bit['reward'].rolling(window=window).mean().plot(label='20-bit', linewidth=1.0, ax=ax)\n",
    "plt.axhline(1000, c='black', linewidth=1.0, linestyle=':')\n",
    "\n",
    "\n",
    "ax.set_xlabel('Trial')\n",
    "ax.set_ylabel('Reward')\n",
    "ax.set_title(f'Reward obtained.\\nResults averaged over {window} trials')\n",
    "ax.set_ylim([500, 1050])\n",
    "\n",
    "plt.legend()\n",
    "plt.show()"
   ]
  }
 ],
 "metadata": {
  "kernelspec": {
   "display_name": "Python 3",
   "language": "python",
   "name": "python3"
  },
  "language_info": {
   "codemirror_mode": {
    "name": "ipython",
    "version": 3
   },
   "file_extension": ".py",
   "mimetype": "text/x-python",
   "name": "python",
   "nbconvert_exporter": "python",
   "pygments_lexer": "ipython3",
   "version": "3.7.0"
  }
 },
 "nbformat": 4,
 "nbformat_minor": 2
}
